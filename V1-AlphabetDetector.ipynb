{
 "cells": [
  {
   "cell_type": "code",
   "execution_count": 2,
   "metadata": {},
   "outputs": [],
   "source": [
    "import cv2\n",
    "import numpy\n",
    "import os\n",
    "import matplotlib.pyplot as plt\n",
    "import mediapipe as mp\n",
    "import mediapipe.python.solutions\n",
    "\n",
    "import time"
   ]
  },
  {
   "cell_type": "code",
   "execution_count": 3,
   "metadata": {},
   "outputs": [],
   "source": [
    "mp_hands = mp.solutions.hands\n",
    "mp_drawing = mp.solutions.drawing_utils\n",
    "mp_drawing_styles = mp.solutions.drawing_styles"
   ]
  },
  {
   "cell_type": "code",
   "execution_count": 4,
   "metadata": {},
   "outputs": [],
   "source": [
    "def mp_hands_detect(image, model): #in this case we pass in instance of Hands class object in model args\n",
    "    image = cv2.cvtColor(image, cv2.COLOR_BGR2RGB) # Mediapipe accepts only RGB, so gotta convert native color BGR to RGB\n",
    "    image.flags.writeable = False # saves memory, image no longer writeable for time being\n",
    "    results = model.process(image) # image comes from OpenCV frame\n",
    "    #print(results.multi_hand_landmarks)\n",
    "    #print(type(results.multi_hand_landmarks))\n",
    "    #print(len(results.multi_hand_landmarks) if type(results.multi_hand_landmarks) == list else print(0))\n",
    "    image.flags.writeable = True\n",
    "    image = cv2.cvtColor(image, cv2.COLOR_RGB2BGR) # afterwards, we convert from RGB to BGR back\n",
    "    return image, results"
   ]
  },
  {
   "cell_type": "code",
   "execution_count": 5,
   "metadata": {},
   "outputs": [],
   "source": [
    "def render_hand_landmarks(image, results):\n",
    "    if type(results.multi_hand_landmarks) == list:\n",
    "        mp_drawing.draw_landmarks(image, results.multi_hand_landmarks[0], mp_hands.HAND_CONNECTIONS)\n"
   ]
  },
  {
   "cell_type": "code",
   "execution_count": 15,
   "metadata": {},
   "outputs": [],
   "source": [
    "def style_hand_landmarks(image, results): # same as rendering hand land marks but with extra styling\n",
    "    if type(results.multi_hand_landmarks) == list:\n",
    "        mp_drawing.draw_landmarks(image, \n",
    "                                  results.multi_hand_landmarks[0], \n",
    "                                  mp_hands.HAND_CONNECTIONS,\n",
    "                                  # arranged in BGR because remember we converted the image back from RGB to BGR\n",
    "                                  mp_drawing.DrawingSpec(color=(86,255,255), thickness=2, circle_radius=4),\n",
    "                                  mp_drawing.DrawingSpec(color=(170,86,255), thickness=2, circle_radius=4))"
   ]
  },
  {
   "cell_type": "code",
   "execution_count": 16,
   "metadata": {},
   "outputs": [],
   "source": [
    "cap = cv2.VideoCapture(0)\n",
    "\n",
    "# Begin use mediapipe\n",
    "with mp_hands.Hands(max_num_hands = 1, min_detection_confidence=0.3, min_tracking_confidence=0.3) as hands:\n",
    "    while cap.isOpened():\n",
    "        ret, frame = cap.read()\n",
    "\n",
    "        # Make detections\n",
    "        image, results = mp_hands_detect(frame, hands)\n",
    "        \n",
    "        # Draw landmarks\n",
    "        style_hand_landmarks(image, results)\n",
    "\n",
    "        # Display to screen\n",
    "        cv2.imshow('FSL Alphabet Detector Cam Test', image)\n",
    "        # if q has been pressed for about 10 frames, quit\n",
    "        if (cv2.waitKey(10) == ord('q')):\n",
    "            break\n",
    "    cap.release()\n",
    "    cv2.destroyAllWindows()"
   ]
  },
  {
   "cell_type": "code",
   "execution_count": null,
   "metadata": {},
   "outputs": [],
   "source": []
  }
 ],
 "metadata": {
  "kernelspec": {
   "display_name": "FSL-Alphabet",
   "language": "python",
   "name": "python3"
  },
  "language_info": {
   "codemirror_mode": {
    "name": "ipython",
    "version": 3
   },
   "file_extension": ".py",
   "mimetype": "text/x-python",
   "name": "python",
   "nbconvert_exporter": "python",
   "pygments_lexer": "ipython3",
   "version": "3.10.6"
  }
 },
 "nbformat": 4,
 "nbformat_minor": 2
}
